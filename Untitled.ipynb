{
 "cells": [
  {
   "cell_type": "code",
   "execution_count": 15,
   "id": "3153f0db-9659-4928-9226-1377a4bc1da2",
   "metadata": {},
   "outputs": [
    {
     "name": "stdout",
     "output_type": "stream",
     "text": [
      "The mileage is 30kmph\n",
      "The mileage is 25kmph \n",
      "The mileage is 24kmph \n"
     ]
    }
   ],
   "source": [
    "\n",
    "\n",
    "# Q1.ANS=>\n",
    "'''Abstraction is a process of handling complexity by hiding unnecessary information from the user. This is one of the core concepts of \n",
    "object-oriented programming (OOP) languages. That enables the user to implement even more complex logic on top of the provided abstraction\n",
    "without understanding or even thinking about all the hidden background complexity.\n",
    "When we use the TV remote to increase the volume. We don't know how pressing a key increases the volume of the TV. We only know to press\n",
    "the \"+\" button to increase the volume. That is exactly the abstraction that works in the object-oriented concept.'''\n",
    "\n",
    "\n",
    "\n",
    "import abc \n",
    "\n",
    "class Car: \n",
    "    @abc.abstractmethod\n",
    "    def mileage(self):   \n",
    "        pass  \n",
    "  \n",
    "class Tesla(Car):   \n",
    "    def mileage(self):   \n",
    "        print(\"The mileage is 30kmph\")   \n",
    "class Suzuki(Car):   \n",
    "    def mileage(self):   \n",
    "        print(\"The mileage is 25kmph \")   \n",
    "class Duster(Car):   \n",
    "     def mileage(self):   \n",
    "        print(\"The mileage is 24kmph \")   \n",
    "  \n",
    "\n",
    "          \n",
    "  \n",
    "t = Tesla()   \n",
    "t.mileage()   \n",
    "\n",
    "s = Suzuki()   \n",
    "s.mileage()  \n",
    "\n",
    "d = Duster()   \n",
    "d.mileage()  "
   ]
  },
  {
   "cell_type": "code",
   "execution_count": 33,
   "id": "feae7977-d2e6-4c57-8d0f-f22cf1fcb884",
   "metadata": {},
   "outputs": [
    {
     "name": "stdout",
     "output_type": "stream",
     "text": [
      "20\n",
      "i am student_details from student_bio\n",
      "20\n"
     ]
    }
   ],
   "source": [
    "# Q2.ANS=>\n",
    "'''Encapsulation hides variables or some implementation that may be changed so often in a class to prevent outsiders access it directly.\n",
    "They must access it via getter and setter methods.\n",
    "\n",
    "Abstraction is used to hide complexity of the implementation and provide some interface to user to use it..\n",
    "\n",
    "EX-Encapsulation is the internal circuits, LEDS, etc that combine to make it a TV. \n",
    "   Abstraction is the on-off, sound, channel setting and other buttons provided to operate it'''\n",
    "\n",
    "'''in the following example user does not know any self.__score is present in the class assignment and user can not be get direct access of\n",
    "self.__score because it is private now but user can access it by method get_score'''\n",
    "\n",
    "class assignment:\n",
    "    def __init__(self,score):\n",
    "        self.__score=score\n",
    "        \n",
    "    def modifyScore(self,new_score):\n",
    "        self.__score+=new_score\n",
    "        \n",
    "    def get_score(self):\n",
    "        print(self.__score)\n",
    "        \n",
    "obj=assignment(10)\n",
    "obj.modifyScore(10)\n",
    "obj.get_score()\n",
    "\n",
    "    # Example of abstraction\n",
    "''' An abstract method is a method that is declared, but contains no implementation. Abstract classes may not be instantiated, and \n",
    "its abstract methods must be implemented by its subclasses.'''\n",
    "import abc\n",
    "class details:\n",
    "    @abc.abstractmethod\n",
    "    def student_details(self):\n",
    "        pass\n",
    "        # print('i am student_details from details')  //contains no implementation thats why this in comment\n",
    "    @abc.abstractmethod\n",
    "    def student_score(self):\n",
    "        pass\n",
    "    \n",
    "class student_bio(details):\n",
    "    def student_details(self):\n",
    "        print('i am student_details from student_bio')\n",
    "        \n",
    "    def student_score(self):\n",
    "        # super().student_details() //we can access superclass's method \n",
    "        return obj.get_score()\n",
    "        \n",
    "obj1=student_bio()\n",
    "obj1.student_details()\n",
    "obj1.student_score()\n",
    "    "
   ]
  },
  {
   "cell_type": "code",
   "execution_count": null,
   "id": "b241c8c3-d6c6-4d18-80f4-7bcb821a3aa2",
   "metadata": {},
   "outputs": [],
   "source": [
    "#  Q3.ANS=>\n",
    "\n",
    "'''The 'abc' module in the Python library provides the infrastructure for defining custom abstract base classes. Abstract class cannot be\n",
    "instantiated in python. An Abstract method can be call by its subclasses.\n",
    "\n",
    "An abstract base class is a class that is used as a blueprint for other classes. Abstract base classes are a powerful feature in Python\n",
    "since they help us to define a blueprint for other classes that may have something in common.'''"
   ]
  },
  {
   "cell_type": "code",
   "execution_count": null,
   "id": "988a5b58-ce35-4eb4-9e1d-315c1c56d5c0",
   "metadata": {},
   "outputs": [],
   "source": [
    "#  Q4.ANS=>\n",
    "'''Data abstraction is a method where essential elements are displayed to the user and trivial elements are kept hidden. In Java, \n",
    "abstraction is achieved by using the abstract keyword for classes and interfaces. In abstract classes, we can have abstract methods as well\n",
    "as concrete methods.'''"
   ]
  },
  {
   "cell_type": "code",
   "execution_count": 36,
   "id": "fce84b8c-88f9-4c4b-88b8-18e2d0764079",
   "metadata": {},
   "outputs": [
    {
     "name": "stdout",
     "output_type": "stream",
     "text": [
      "i am student_details from details\n",
      "i am student_details from student_bio\n"
     ]
    }
   ],
   "source": [
    "'''Abstract classes cannot be instantiated, but in the following example i can make an instance obj for abstactclass'''\n",
    "\n",
    "\n",
    "import abc\n",
    "class details:\n",
    "    @abc.abstractmethod\n",
    "    def student_details(self):\n",
    "        pass\n",
    "        print('i am student_details from details')  \n",
    "    @abc.abstractmethod\n",
    "    def student_score(self):\n",
    "        pass\n",
    "    \n",
    "obj=details()\n",
    "obj.student_details()\n",
    "# at this position we cant be able to make instance of abstract class    \n",
    "\n",
    "class student_bio(details):\n",
    "    def student_details(self):\n",
    "        print('i am student_details from student_bio')\n",
    "        \n",
    "    def student_score(self):\n",
    "        super().student_details()\n",
    "\n",
    "obj1=student_bio()\n",
    "obj1.student_details()"
   ]
  },
  {
   "cell_type": "code",
   "execution_count": null,
   "id": "a95512d9-ae55-4bf6-84f3-6a49fa24fb45",
   "metadata": {},
   "outputs": [],
   "source": []
  }
 ],
 "metadata": {
  "kernelspec": {
   "display_name": "Python 3 (ipykernel)",
   "language": "python",
   "name": "python3"
  },
  "language_info": {
   "codemirror_mode": {
    "name": "ipython",
    "version": 3
   },
   "file_extension": ".py",
   "mimetype": "text/x-python",
   "name": "python",
   "nbconvert_exporter": "python",
   "pygments_lexer": "ipython3",
   "version": "3.10.8"
  }
 },
 "nbformat": 4,
 "nbformat_minor": 5
}
